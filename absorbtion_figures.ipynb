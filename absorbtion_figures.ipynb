{
 "cells": [
  {
   "cell_type": "code",
   "execution_count": null,
   "metadata": {},
   "outputs": [],
   "source": [
    "### SET DRIVE PATH ###\n",
    "drive = \"/SETDRIVEPATH/data_lsd_trip/\""
   ]
  },
  {
   "cell_type": "code",
   "execution_count": null,
   "metadata": {},
   "outputs": [],
   "source": [
    "import numpy as np\n",
    "import pandas as pd\n",
    "import matplotlib as mpl\n",
    "import matplotlib.pyplot as plt\n",
    "from matplotlib import cm\n",
    "from mpl_toolkits.axes_grid1 import make_axes_locatable"
   ]
  },
  {
   "cell_type": "code",
   "execution_count": null,
   "metadata": {},
   "outputs": [],
   "source": [
    "## Loading data from\n",
    "drive = drive + \"data_calibration\"\n",
    "## literature\n",
    "water_ref1 = pd.read_csv(drive + \"/literature/segelstein81.csv\", header=3, sep=\"\\t\")\n",
    "hb_ref =  pd.read_csv(drive + \"/literature/hemoglobin.csv\", header=13, sep=\"\\t\")\n",
    "\n",
    "## first batch\n",
    "df_Cu_2mm = pd.read_csv(drive + \"/sulfate_spectra/cu 2mm.Sample.Raw.csv\", header=0, sep=';')\n",
    "df_Ni_2mm = pd.read_csv(drive + \"/sulfate_spectra/ni 2mm.Sample.Raw.csv\", header=0, sep=';')\n",
    "df_water_2mm = pd.read_csv(drive + \"/sulfate_spectra/water 2mm.Sample.Raw.csv\", header=0, sep=';')\n",
    "\n",
    "## second batch\n",
    "df_rCu100 = pd.read_csv(drive + \"/sulfate_spectra/20201020/rCu100.Sample.Raw.csv\", header=0, sep=';')\n",
    "df_rCu75 = pd.read_csv(drive + \"/sulfate_spectra/20201020/rCu75.Sample.Raw.csv\", header=0, sep=';')\n",
    "df_rCu50 = pd.read_csv(drive + \"/sulfate_spectra/20201020/rCu50.Sample.Raw.csv\", header=0, sep=';')\n",
    "df_rCu25 = pd.read_csv(drive + \"/sulfate_spectra/20201020/rCu25.Sample.Raw.csv\", header=0, sep=';')\n",
    "df_rCu0 = pd.read_csv(drive + \"/sulfate_spectra/20201020/rCu0.Sample.Raw.csv\", header=0, sep=';')"
   ]
  },
  {
   "cell_type": "code",
   "execution_count": null,
   "metadata": {},
   "outputs": [],
   "source": [
    "mpl.rcParams.update({'font.size': 7})\n",
    "mpl.rc('xtick', labelsize=7) \n",
    "mpl.rc('ytick', labelsize=7)\n",
    "fig, ax = plt.subplots(1,2, figsize=(6.5,1.5), dpi=600)\n",
    "stop=28\n",
    "cmap = cm.get_cmap('viridis')\n",
    "ax[1].plot(df_Cu_2mm[\"nm\"], np.log(10)*5*(df_Cu_2mm[\" A\"]-df_water_2mm[\" A\"]),\n",
    "           \"-\", lw=2, color=\"crimson\",\n",
    "           label=\"$c_\\mathrm{wb}($CuSO$_4) = 0.25\\,$M\")\n",
    "ax[1].plot(df_Ni_2mm[\"nm\"], np.log(10)*5*(df_Ni_2mm[\" A\"]-df_water_2mm[\" A\"]),\n",
    "           \"-\", lw=2, color=\"darkblue\",\n",
    "           label=\"$c_\\mathrm{wb}$(NiSO$_4) = 2.2\\,$M\")\n",
    "im = ax[1].plot(df_rCu100[\"nm\"][::-1][:stop], np.log(10)*5*(df_rCu100[\" A\"][::-1][:stop]),\n",
    "           \"+\", color=cmap(100./100.), markersize=4)\n",
    "ax[1].plot(df_rCu75[\"nm\"][::-1][:stop], np.log(10)*5*(df_rCu75[\" A\"][::-1][:stop]),\n",
    "           \"+\", color=cmap(75./100.), markersize=4)\n",
    "ax[1].plot(df_rCu50[\"nm\"][::-1][:stop], np.log(10)*5*(df_rCu50[\" A\"][::-1][:stop]),\n",
    "           \"+\", color=cmap(50./100.), markersize=4)\n",
    "ax[1].plot(df_rCu25[\"nm\"][::-1][:stop], np.log(10)*5*(df_rCu25[\" A\"][::-1][:stop]),\n",
    "           \"+\", color=cmap(25./100.), markersize=4)\n",
    "ax[1].plot(df_rCu0[\"nm\"][::-1][:stop], np.log(10)*5*(df_rCu0[\" A\"][::-1][:stop]),\n",
    "           \"+\", color=cmap(0./100.), markersize=4)\n",
    "ax[1].legend(fontsize=7,frameon=False)\n",
    "\n",
    "\n",
    "ax[0].plot(hb_ref[\"nm\"], 0.0054*hb_ref[\"cm-1/M\"],\n",
    "           \"-\", lw=2, color=\"crimson\",\n",
    "           label=\"$c_\\mathrm{wb}($HbO$) = 150\\,$g/l\")\n",
    "ax[0].plot(hb_ref[\"nm\"], 0.0054*hb_ref[\"cm-1/M.1\"],\n",
    "           \"-\", lw=2, color=\"darkblue\",\n",
    "           label=\"$c_\\mathrm{wb}($Hb$) = 150\\,$g/l\")\n",
    "ax[0].legend(fontsize=7,frameon=False)\n",
    "\n",
    "ax[0].set_xlim(679,981)\n",
    "ax[1].set_xlim(679,981)\n",
    "ax[0].set_ylim(0,13)\n",
    "ax[1].set_ylim(0,13)\n",
    "ax[0].set_xlabel(\"$\\lambda$ [nm]\")\n",
    "ax[0].set_yticks([0,3,6,9,12])\n",
    "ax[0].set_ylabel(\"$\\mu_\\mathrm{a}$ [cm$^{-1}]$\")\n",
    "ax[1].set_xlabel(\"$\\lambda$ [nm]\")\n",
    "ax[1].set_yticks([0,3,6,9,12])\n",
    "ax[1].set_ylabel(\"$\\mu_\\mathrm{a}$ [cm$^{-1}]$\")\n",
    "\n",
    "divider = make_axes_locatable(plt.gca())\n",
    "ax_cb = divider.new_horizontal(size=\"5%\", pad=0.08)    \n",
    "cb = mpl.colorbar.ColorbarBase(ax_cb, cmap=cmap, orientation='vertical', \n",
    "                               norm=mpl.colors.Normalize(vmin=0, vmax=100))\n",
    "plt.gcf().add_axes(ax_cb)\n",
    "cb.set_label('rCu [%]', rotation=90)\n",
    "fig.tight_layout()\n",
    "plt.show()\n",
    "fig.savefig(\"sulfate_spectra_.png\")\n",
    "plt.close(fig)"
   ]
  },
  {
   "cell_type": "code",
   "execution_count": null,
   "metadata": {},
   "outputs": [],
   "source": []
  }
 ],
 "metadata": {
  "kernelspec": {
   "display_name": "Python 3",
   "language": "python",
   "name": "python3"
  },
  "language_info": {
   "codemirror_mode": {
    "name": "ipython",
    "version": 3
   },
   "file_extension": ".py",
   "mimetype": "text/x-python",
   "name": "python",
   "nbconvert_exporter": "python",
   "pygments_lexer": "ipython3",
   "version": "3.7.4"
  }
 },
 "nbformat": 4,
 "nbformat_minor": 4
}
